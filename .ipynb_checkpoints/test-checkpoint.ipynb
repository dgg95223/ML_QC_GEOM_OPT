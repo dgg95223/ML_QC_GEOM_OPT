{
 "cells": [
  {
   "cell_type": "code",
   "execution_count": 1,
   "id": "f1b3edf2-6ad1-454f-bdc7-5c5d7f3e5a36",
   "metadata": {},
   "outputs": [],
   "source": [
    "import data, main, ML_engine, optimizer, QC_engine "
   ]
  },
  {
   "cell_type": "code",
   "execution_count": 2,
   "id": "81f05e5a-1db9-4db9-b3d2-148b653f35ed",
   "metadata": {},
   "outputs": [
    {
     "name": "stderr",
     "output_type": "stream",
     "text": [
      "2022-03-14 20:37:51.209957: W tensorflow/stream_executor/platform/default/dso_loader.cc:64] Could not load dynamic library 'libcudart.so.11.0'; dlerror: libcudart.so.11.0: cannot open shared object file: No such file or directory\n",
      "2022-03-14 20:37:51.210098: I tensorflow/stream_executor/cuda/cudart_stub.cc:29] Ignore above cudart dlerror if you do not have a GPU set up on your machine.\n"
     ]
    },
    {
     "name": "stdout",
     "output_type": "stream",
     "text": [
      "WARNING:tensorflow:From /home/dgg95223/venv/lib/python3.7/site-packages/tensorflow/python/compat/v2_compat.py:111: disable_resource_variables (from tensorflow.python.ops.variable_scope) is deprecated and will be removed in a future version.\n",
      "Instructions for updating:\n",
      "non-resource variables are not supported in the long term\n"
     ]
    },
    {
     "name": "stderr",
     "output_type": "stream",
     "text": [
      "WARNING:root:To get the best performance, it is recommended to adjust the number of threads by setting the environment variables OMP_NUM_THREADS, TF_INTRA_OP_PARALLELISM_THREADS, and TF_INTER_OP_PARALLELISM_THREADS.\n",
      "WARNING:root:Environment variable KMP_BLOCKTIME is empty. Use the default value 0\n",
      "WARNING:root:Environment variable KMP_AFFINITY is empty. Use the default value granularity=fine,verbose,compact,1,0\n"
     ]
    }
   ],
   "source": [
    "from deepmd.calculator import DP"
   ]
  },
  {
   "cell_type": "code",
   "execution_count": null,
   "id": "81320257-f55e-4f38-90ac-77e3bea94e2a",
   "metadata": {
    "scrolled": true,
    "tags": []
   },
   "outputs": [
    {
     "name": "stderr",
     "output_type": "stream",
     "text": [
      "WARNING:main:No convergence tolarence is specified, default tolarence 0.00000100000 will be used\n"
     ]
    },
    {
     "name": "stdout",
     "output_type": "stream",
     "text": [
      "QC_engine.py 108: [[ 6.87486144  2.96894871  3.32591798]\n",
      " [49.8169223   2.96894871  3.32591798]\n",
      " [ 7.48006512  4.82658729  3.29553118]\n",
      " [ 4.98156373  3.15070257  3.33523433]\n",
      " [49.30624271  1.87872792  4.83966419]\n",
      " [49.31334808  1.87234064  1.81549768]]\n"
     ]
    },
    {
     "name": "stderr",
     "output_type": "stream",
     "text": [
      "OMP: Info #155: KMP_AFFINITY: Initial OS proc set respected: 0-11\n",
      "OMP: Info #216: KMP_AFFINITY: decoding x2APIC ids.\n",
      "OMP: Info #216: KMP_AFFINITY: x2APIC ids not unique.\n",
      "OMP: Info #216: KMP_AFFINITY: decoding legacy APIC ids.\n",
      "OMP: Info #216: KMP_AFFINITY: legacy APIC ids not unique.\n",
      "OMP: Info #220: KMP_AFFINITY: parsing /proc/cpuinfo.\n",
      "OMP: Info #157: KMP_AFFINITY: 12 available OS procs\n",
      "OMP: Info #158: KMP_AFFINITY: Uniform topology\n",
      "OMP: Info #287: KMP_AFFINITY: topology layer \"LL cache\" is equivalent to \"socket\".\n",
      "OMP: Info #192: KMP_AFFINITY: 1 socket x 6 cores/socket x 2 threads/core (6 total cores)\n",
      "OMP: Info #218: KMP_AFFINITY: OS proc to physical thread map:\n",
      "OMP: Info #172: KMP_AFFINITY: OS proc 0 maps to socket 0 core 0 thread 0 \n",
      "OMP: Info #172: KMP_AFFINITY: OS proc 1 maps to socket 0 core 0 thread 1 \n",
      "OMP: Info #172: KMP_AFFINITY: OS proc 2 maps to socket 0 core 1 thread 0 \n",
      "OMP: Info #172: KMP_AFFINITY: OS proc 3 maps to socket 0 core 1 thread 1 \n",
      "OMP: Info #172: KMP_AFFINITY: OS proc 4 maps to socket 0 core 2 thread 0 \n",
      "OMP: Info #172: KMP_AFFINITY: OS proc 5 maps to socket 0 core 2 thread 1 \n",
      "OMP: Info #172: KMP_AFFINITY: OS proc 6 maps to socket 0 core 3 thread 0 \n",
      "OMP: Info #172: KMP_AFFINITY: OS proc 7 maps to socket 0 core 3 thread 1 \n",
      "OMP: Info #172: KMP_AFFINITY: OS proc 8 maps to socket 0 core 4 thread 0 \n",
      "OMP: Info #172: KMP_AFFINITY: OS proc 9 maps to socket 0 core 4 thread 1 \n",
      "OMP: Info #172: KMP_AFFINITY: OS proc 10 maps to socket 0 core 5 thread 0 \n",
      "OMP: Info #172: KMP_AFFINITY: OS proc 11 maps to socket 0 core 5 thread 1 \n",
      "OMP: Info #254: KMP_AFFINITY: pid 18996 tid 18996 thread 0 bound to OS proc set 0\n",
      "OMP: Info #254: KMP_AFFINITY: pid 18996 tid 19019 thread 1 bound to OS proc set 2\n",
      "OMP: Info #254: KMP_AFFINITY: pid 18996 tid 19020 thread 2 bound to OS proc set 4\n",
      "OMP: Info #254: KMP_AFFINITY: pid 18996 tid 19021 thread 3 bound to OS proc set 6\n",
      "OMP: Info #254: KMP_AFFINITY: pid 18996 tid 19022 thread 4 bound to OS proc set 8\n",
      "OMP: Info #254: KMP_AFFINITY: pid 18996 tid 19023 thread 5 bound to OS proc set 10\n",
      "OMP: Info #254: KMP_AFFINITY: pid 18996 tid 19024 thread 6 bound to OS proc set 1\n",
      "OMP: Info #254: KMP_AFFINITY: pid 18996 tid 19026 thread 8 bound to OS proc set 5\n",
      "OMP: Info #254: KMP_AFFINITY: pid 18996 tid 19025 thread 7 bound to OS proc set 3\n",
      "OMP: Info #254: KMP_AFFINITY: pid 18996 tid 19027 thread 9 bound to OS proc set 7\n",
      "OMP: Info #254: KMP_AFFINITY: pid 18996 tid 19028 thread 10 bound to OS proc set 9\n",
      "OMP: Info #254: KMP_AFFINITY: pid 18996 tid 19029 thread 11 bound to OS proc set 11\n"
     ]
    },
    {
     "name": "stdout",
     "output_type": "stream",
     "text": [
      "\n",
      "\t\t\t###########################################\n",
      "\t\t\t###     Optimization cycle:     1       ###\n",
      "\t\t\t###########################################\n",
      "\t\t\t\n"
     ]
    },
    {
     "name": "stderr",
     "output_type": "stream",
     "text": [
      "2022-03-14 20:37:54.973114: W tensorflow/stream_executor/platform/default/dso_loader.cc:64] Could not load dynamic library 'libcudart.so.11.0'; dlerror: libcudart.so.11.0: cannot open shared object file: No such file or directory\n",
      "2022-03-14 20:37:54.973257: I tensorflow/stream_executor/cuda/cudart_stub.cc:29] Ignore above cudart dlerror if you do not have a GPU set up on your machine.\n",
      "WARNING:tensorflow:From /home/dgg95223/venv/lib/python3.7/site-packages/tensorflow/python/compat/v2_compat.py:111: disable_resource_variables (from tensorflow.python.ops.variable_scope) is deprecated and will be removed in a future version.\n",
      "Instructions for updating:\n",
      "non-resource variables are not supported in the long term\n",
      "WARNING:root:To get the best performance, it is recommended to adjust the number of threads by setting the environment variables OMP_NUM_THREADS, TF_INTRA_OP_PARALLELISM_THREADS, and TF_INTER_OP_PARALLELISM_THREADS.\n",
      "WARNING:deepmd.train.run_options:Switch to serial execution due to lack of horovod module.\n",
      "DEEPMD INFO    Calculate neighbor statistics... (add --skip-neighbor-stat to skip this step)\n",
      "2022-03-14 20:37:59.715455: I tensorflow/core/platform/cpu_feature_guard.cc:151] This TensorFlow binary is optimized with oneAPI Deep Neural Network Library (oneDNN) to use the following CPU instructions in performance-critical operations:  AVX2 FMA\n",
      "To enable them in other operations, rebuild TensorFlow with the appropriate compiler flags.\n",
      "2022-03-14 20:37:59.717369: W tensorflow/stream_executor/platform/default/dso_loader.cc:64] Could not load dynamic library 'libcuda.so.1'; dlerror: libcuda.so.1: cannot open shared object file: No such file or directory\n",
      "2022-03-14 20:37:59.717488: W tensorflow/stream_executor/cuda/cuda_driver.cc:269] failed call to cuInit: UNKNOWN ERROR (303)\n",
      "2022-03-14 20:37:59.717591: I tensorflow/stream_executor/cuda/cuda_diagnostics.cc:156] kernel driver does not appear to be running on this host (Deng-PC): /proc/driver/nvidia/version does not exist\n",
      "OMP: Info #155: KMP_AFFINITY: Initial OS proc set respected: 0-11\n",
      "OMP: Info #216: KMP_AFFINITY: decoding x2APIC ids.\n",
      "OMP: Info #216: KMP_AFFINITY: x2APIC ids not unique.\n",
      "OMP: Info #216: KMP_AFFINITY: decoding legacy APIC ids.\n",
      "OMP: Info #216: KMP_AFFINITY: legacy APIC ids not unique.\n",
      "OMP: Info #220: KMP_AFFINITY: parsing /proc/cpuinfo.\n",
      "OMP: Info #157: KMP_AFFINITY: 12 available OS procs\n",
      "OMP: Info #158: KMP_AFFINITY: Uniform topology\n",
      "OMP: Info #287: KMP_AFFINITY: topology layer \"LL cache\" is equivalent to \"socket\".\n",
      "OMP: Info #192: KMP_AFFINITY: 1 socket x 6 cores/socket x 2 threads/core (6 total cores)\n",
      "OMP: Info #218: KMP_AFFINITY: OS proc to physical thread map:\n",
      "OMP: Info #172: KMP_AFFINITY: OS proc 0 maps to socket 0 core 0 thread 0 \n",
      "OMP: Info #172: KMP_AFFINITY: OS proc 1 maps to socket 0 core 0 thread 1 \n",
      "OMP: Info #172: KMP_AFFINITY: OS proc 2 maps to socket 0 core 1 thread 0 \n",
      "OMP: Info #172: KMP_AFFINITY: OS proc 3 maps to socket 0 core 1 thread 1 \n",
      "OMP: Info #172: KMP_AFFINITY: OS proc 4 maps to socket 0 core 2 thread 0 \n",
      "OMP: Info #172: KMP_AFFINITY: OS proc 5 maps to socket 0 core 2 thread 1 \n",
      "OMP: Info #172: KMP_AFFINITY: OS proc 6 maps to socket 0 core 3 thread 0 \n",
      "OMP: Info #172: KMP_AFFINITY: OS proc 7 maps to socket 0 core 3 thread 1 \n",
      "OMP: Info #172: KMP_AFFINITY: OS proc 8 maps to socket 0 core 4 thread 0 \n",
      "OMP: Info #172: KMP_AFFINITY: OS proc 9 maps to socket 0 core 4 thread 1 \n",
      "OMP: Info #172: KMP_AFFINITY: OS proc 10 maps to socket 0 core 5 thread 0 \n",
      "OMP: Info #172: KMP_AFFINITY: OS proc 11 maps to socket 0 core 5 thread 1 \n",
      "OMP: Info #254: KMP_AFFINITY: pid 19031 tid 19089 thread 0 bound to OS proc set 0\n",
      "OMP: Info #254: KMP_AFFINITY: pid 19031 tid 19091 thread 1 bound to OS proc set 2\n",
      "OMP: Info #254: KMP_AFFINITY: pid 19031 tid 19092 thread 2 bound to OS proc set 4\n",
      "OMP: Info #254: KMP_AFFINITY: pid 19031 tid 19093 thread 3 bound to OS proc set 6\n",
      "OMP: Info #254: KMP_AFFINITY: pid 19031 tid 19094 thread 4 bound to OS proc set 8\n",
      "OMP: Info #254: KMP_AFFINITY: pid 19031 tid 19095 thread 5 bound to OS proc set 10\n",
      "OMP: Info #254: KMP_AFFINITY: pid 19031 tid 19096 thread 6 bound to OS proc set 1\n",
      "OMP: Info #254: KMP_AFFINITY: pid 19031 tid 19097 thread 7 bound to OS proc set 3\n",
      "OMP: Info #254: KMP_AFFINITY: pid 19031 tid 19098 thread 8 bound to OS proc set 5\n",
      "OMP: Info #254: KMP_AFFINITY: pid 19031 tid 19099 thread 9 bound to OS proc set 7\n",
      "OMP: Info #254: KMP_AFFINITY: pid 19031 tid 19100 thread 10 bound to OS proc set 9\n",
      "OMP: Info #254: KMP_AFFINITY: pid 19031 tid 19101 thread 11 bound to OS proc set 11\n",
      "/home/dgg95223/venv/lib/python3.7/site-packages/deepmd/utils/data_system.py:159: UserWarning: system ./raw/ required batch size is larger than the size of the dataset raw/set.000 (6 > 1)\n",
      "  (self.system_dirs[ii], chk_ret[0], self.batch_size[ii], chk_ret[1]))\n",
      "DEEPMD INFO    training data with min nbor dist: 1.0065080572951215\n",
      "DEEPMD INFO    training data with max nbor size: [2, 1]\n",
      "DEEPMD INFO     _____               _____   __  __  _____           _     _  _   \n",
      "DEEPMD INFO    |  __ \\             |  __ \\ |  \\/  ||  __ \\         | |   (_)| |  \n",
      "DEEPMD INFO    | |  | |  ___   ___ | |__) || \\  / || |  | | ______ | | __ _ | |_ \n",
      "DEEPMD INFO    | |  | | / _ \\ / _ \\|  ___/ | |\\/| || |  | ||______|| |/ /| || __|\n",
      "DEEPMD INFO    | |__| ||  __/|  __/| |     | |  | || |__| |        |   < | || |_ \n",
      "DEEPMD INFO    |_____/  \\___| \\___||_|     |_|  |_||_____/         |_|\\_\\|_| \\__|\n",
      "DEEPMD INFO    Please read and cite:\n",
      "DEEPMD INFO    Wang, Zhang, Han and E, Comput.Phys.Comm. 228, 178-184 (2018)\n",
      "DEEPMD INFO    installed to:         /home/dgg95223/deepmd/deepmd-kit/_skbuild/linux-x86_64-3.7/cmake-install\n",
      "DEEPMD INFO    source :              v2.0.2-77-gbcfb127\n",
      "DEEPMD INFO    source brach:         devel\n",
      "DEEPMD INFO    source commit:        bcfb127\n",
      "DEEPMD INFO    source commit at:     2022-01-24 14:31:39 +0800\n",
      "DEEPMD INFO    build float prec:     double\n",
      "DEEPMD INFO    build with tf inc:    /home/dgg95223/venv/lib/python3.7/site-packages/tensorflow/include\n",
      "DEEPMD INFO    build with tf lib:    \n",
      "DEEPMD INFO    ---Summary of the training---------------------------------------\n",
      "DEEPMD INFO    running on:           Deng-PC\n",
      "DEEPMD INFO    computing device:     cpu:0\n",
      "DEEPMD INFO    CUDA_VISIBLE_DEVICES: unset\n",
      "DEEPMD INFO    Count of visible GPU: 0\n",
      "DEEPMD INFO    num_intra_threads:    0\n",
      "DEEPMD INFO    num_inter_threads:    0\n",
      "DEEPMD INFO    -----------------------------------------------------------------\n",
      "DEEPMD INFO    ---Summary of DataSystem: training     -----------------------------------------------\n",
      "DEEPMD INFO    found 1 system(s):\n",
      "DEEPMD INFO                                        system  natoms  bch_sz   n_bch   prob  pbc\n",
      "DEEPMD INFO                                        ./raw/       6       6       1  1.000    F\n",
      "DEEPMD INFO    --------------------------------------------------------------------------------------\n",
      "DEEPMD INFO    training without frame parameter\n",
      "OMP: Info #254: KMP_AFFINITY: pid 19031 tid 19088 thread 12 bound to OS proc set 0\n",
      "OMP: Info #254: KMP_AFFINITY: pid 19031 tid 19102 thread 13 bound to OS proc set 2\n",
      "OMP: Info #254: KMP_AFFINITY: pid 19031 tid 19103 thread 14 bound to OS proc set 4\n",
      "OMP: Info #254: KMP_AFFINITY: pid 19031 tid 19104 thread 15 bound to OS proc set 6\n",
      "OMP: Info #254: KMP_AFFINITY: pid 19031 tid 19105 thread 16 bound to OS proc set 8\n",
      "OMP: Info #254: KMP_AFFINITY: pid 19031 tid 19106 thread 17 bound to OS proc set 10\n",
      "OMP: Info #254: KMP_AFFINITY: pid 19031 tid 19107 thread 18 bound to OS proc set 1\n",
      "OMP: Info #254: KMP_AFFINITY: pid 19031 tid 19108 thread 19 bound to OS proc set 3\n",
      "OMP: Info #254: KMP_AFFINITY: pid 19031 tid 19109 thread 20 bound to OS proc set 5\n",
      "OMP: Info #254: KMP_AFFINITY: pid 19031 tid 19110 thread 21 bound to OS proc set 7\n",
      "OMP: Info #254: KMP_AFFINITY: pid 19031 tid 19111 thread 22 bound to OS proc set 9\n",
      "OMP: Info #254: KMP_AFFINITY: pid 19031 tid 19112 thread 23 bound to OS proc set 11\n",
      "OMP: Info #254: KMP_AFFINITY: pid 19031 tid 19031 thread 24 bound to OS proc set 0\n",
      "DEEPMD INFO    built lr\n"
     ]
    }
   ],
   "source": [
    "setting = {'basis':'6-31g', 'spin':0, 'xc':False, 'restricted':True, 'spin':0, 'verbose':0}\n",
    "geo = main.MLgeomopt(qc_engine='pyscf', ml_engine='deepmd', work_path='./', xyz_path='./water.xyz',**setting)\n",
    "geo.opt_algorithm = 'bfgs'\n",
    "geo.kernel()"
   ]
  },
  {
   "cell_type": "code",
   "execution_count": null,
   "id": "87f73dd0-4f1d-41bc-8b7d-35516c215d67",
   "metadata": {},
   "outputs": [],
   "source": []
  }
 ],
 "metadata": {
  "kernelspec": {
   "display_name": "venv",
   "language": "python",
   "name": "venv"
  },
  "language_info": {
   "codemirror_mode": {
    "name": "ipython",
    "version": 3
   },
   "file_extension": ".py",
   "mimetype": "text/x-python",
   "name": "python",
   "nbconvert_exporter": "python",
   "pygments_lexer": "ipython3",
   "version": "3.7.11"
  }
 },
 "nbformat": 4,
 "nbformat_minor": 5
}
