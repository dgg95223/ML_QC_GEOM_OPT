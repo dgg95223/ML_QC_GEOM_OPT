{
 "cells": [
  {
   "cell_type": "code",
   "execution_count": 1,
   "id": "f1b3edf2-6ad1-454f-bdc7-5c5d7f3e5a36",
   "metadata": {},
   "outputs": [],
   "source": [
    "import data, main, ML_engine, optimizer, QC_engine"
   ]
  },
  {
   "cell_type": "code",
   "execution_count": 2,
   "id": "81f05e5a-1db9-4db9-b3d2-148b653f35ed",
   "metadata": {},
   "outputs": [
    {
     "name": "stderr",
     "output_type": "stream",
     "text": [
      "2022-03-10 16:18:01.271630: W tensorflow/stream_executor/platform/default/dso_loader.cc:64] Could not load dynamic library 'libcudart.so.11.0'; dlerror: libcudart.so.11.0: cannot open shared object file: No such file or directory\n",
      "2022-03-10 16:18:01.271676: I tensorflow/stream_executor/cuda/cudart_stub.cc:29] Ignore above cudart dlerror if you do not have a GPU set up on your machine.\n"
     ]
    },
    {
     "name": "stdout",
     "output_type": "stream",
     "text": [
      "WARNING:tensorflow:From /home/jingheng/venv/lib/python3.9/site-packages/tensorflow/python/compat/v2_compat.py:107: disable_resource_variables (from tensorflow.python.ops.variable_scope) is deprecated and will be removed in a future version.\n",
      "Instructions for updating:\n",
      "non-resource variables are not supported in the long term\n"
     ]
    },
    {
     "name": "stderr",
     "output_type": "stream",
     "text": [
      "WARNING:root:To get the best performance, it is recommended to adjust the number of threads by setting the environment variables OMP_NUM_THREADS, TF_INTRA_OP_PARALLELISM_THREADS, and TF_INTER_OP_PARALLELISM_THREADS.\n",
      "WARNING:root:Environment variable KMP_BLOCKTIME is empty. Use the default value 0\n",
      "WARNING:root:Environment variable KMP_AFFINITY is empty. Use the default value granularity=fine,verbose,compact,1,0\n"
     ]
    }
   ],
   "source": [
    "from deepmd.calculator import DP"
   ]
  },
  {
   "cell_type": "code",
   "execution_count": 5,
   "id": "81320257-f55e-4f38-90ac-77e3bea94e2a",
   "metadata": {},
   "outputs": [
    {
     "name": "stderr",
     "output_type": "stream",
     "text": [
      "WARNING:main:No convergence tolarence is specified, default tolarence 0.00000100000 will be used\n",
      "OMP: Info #155: KMP_AFFINITY: Initial OS proc set respected: 0-15\n",
      "OMP: Info #216: KMP_AFFINITY: decoding x2APIC ids.\n",
      "OMP: Info #216: KMP_AFFINITY: x2APIC ids not unique.\n",
      "OMP: Info #216: KMP_AFFINITY: decoding legacy APIC ids.\n",
      "OMP: Info #216: KMP_AFFINITY: legacy APIC ids not unique.\n",
      "OMP: Info #220: KMP_AFFINITY: parsing /proc/cpuinfo.\n",
      "OMP: Info #157: KMP_AFFINITY: 16 available OS procs\n",
      "OMP: Info #158: KMP_AFFINITY: Uniform topology\n",
      "OMP: Info #287: KMP_AFFINITY: topology layer \"LL cache\" is equivalent to \"socket\".\n",
      "OMP: Info #192: KMP_AFFINITY: 1 socket x 8 cores/socket x 2 threads/core (8 total cores)\n",
      "OMP: Info #218: KMP_AFFINITY: OS proc to physical thread map:\n",
      "OMP: Info #172: KMP_AFFINITY: OS proc 0 maps to socket 0 core 0 thread 0 \n",
      "OMP: Info #172: KMP_AFFINITY: OS proc 1 maps to socket 0 core 0 thread 1 \n",
      "OMP: Info #172: KMP_AFFINITY: OS proc 2 maps to socket 0 core 1 thread 0 \n",
      "OMP: Info #172: KMP_AFFINITY: OS proc 3 maps to socket 0 core 1 thread 1 \n",
      "OMP: Info #172: KMP_AFFINITY: OS proc 4 maps to socket 0 core 2 thread 0 \n",
      "OMP: Info #172: KMP_AFFINITY: OS proc 5 maps to socket 0 core 2 thread 1 \n",
      "OMP: Info #172: KMP_AFFINITY: OS proc 6 maps to socket 0 core 3 thread 0 \n",
      "OMP: Info #172: KMP_AFFINITY: OS proc 7 maps to socket 0 core 3 thread 1 \n",
      "OMP: Info #172: KMP_AFFINITY: OS proc 8 maps to socket 0 core 4 thread 0 \n",
      "OMP: Info #172: KMP_AFFINITY: OS proc 9 maps to socket 0 core 4 thread 1 \n",
      "OMP: Info #172: KMP_AFFINITY: OS proc 10 maps to socket 0 core 5 thread 0 \n",
      "OMP: Info #172: KMP_AFFINITY: OS proc 11 maps to socket 0 core 5 thread 1 \n",
      "OMP: Info #172: KMP_AFFINITY: OS proc 12 maps to socket 0 core 6 thread 0 \n",
      "OMP: Info #172: KMP_AFFINITY: OS proc 13 maps to socket 0 core 6 thread 1 \n",
      "OMP: Info #172: KMP_AFFINITY: OS proc 14 maps to socket 0 core 7 thread 0 \n",
      "OMP: Info #172: KMP_AFFINITY: OS proc 15 maps to socket 0 core 7 thread 1 \n",
      "OMP: Info #254: KMP_AFFINITY: pid 16506 tid 16506 thread 0 bound to OS proc set 0\n",
      "OMP: Info #254: KMP_AFFINITY: pid 16506 tid 17000 thread 1 bound to OS proc set 2\n",
      "OMP: Info #254: KMP_AFFINITY: pid 16506 tid 17002 thread 3 bound to OS proc set 6\n",
      "OMP: Info #254: KMP_AFFINITY: pid 16506 tid 17003 thread 4 bound to OS proc set 8\n",
      "OMP: Info #254: KMP_AFFINITY: pid 16506 tid 17001 thread 2 bound to OS proc set 4\n",
      "OMP: Info #254: KMP_AFFINITY: pid 16506 tid 17004 thread 5 bound to OS proc set 10\n",
      "OMP: Info #254: KMP_AFFINITY: pid 16506 tid 17005 thread 6 bound to OS proc set 12\n",
      "OMP: Info #254: KMP_AFFINITY: pid 16506 tid 17008 thread 9 bound to OS proc set 3\n",
      "OMP: Info #254: KMP_AFFINITY: pid 16506 tid 17006 thread 7 bound to OS proc set 14\n",
      "OMP: Info #254: KMP_AFFINITY: pid 16506 tid 17007 thread 8 bound to OS proc set 1\n",
      "OMP: Info #254: KMP_AFFINITY: pid 16506 tid 17009 thread 10 bound to OS proc set 5\n",
      "OMP: Info #254: KMP_AFFINITY: pid 16506 tid 17010 thread 11 bound to OS proc set 7\n",
      "OMP: Info #254: KMP_AFFINITY: pid 16506 tid 17011 thread 12 bound to OS proc set 9\n",
      "OMP: Info #254: KMP_AFFINITY: pid 16506 tid 17014 thread 15 bound to OS proc set 15\n",
      "OMP: Info #254: KMP_AFFINITY: pid 16506 tid 17012 thread 13 bound to OS proc set 11\n",
      "OMP: Info #254: KMP_AFFINITY: pid 16506 tid 17013 thread 14 bound to OS proc set 13\n"
     ]
    },
    {
     "name": "stdout",
     "output_type": "stream",
     "text": [
      "ML_engine.py 27: frame 1\n",
      "nframe is 0\n",
      "nline per set is 1\n",
      "will make 0 sets\n"
     ]
    },
    {
     "name": "stderr",
     "output_type": "stream",
     "text": [
      "cat: box.raw: No such file or directory\n",
      "split: cannot open 'box.raw' for reading: No such file or directory\n",
      "2022-03-10 16:23:41.831934: W tensorflow/stream_executor/platform/default/dso_loader.cc:64] Could not load dynamic library 'libcudart.so.11.0'; dlerror: libcudart.so.11.0: cannot open shared object file: No such file or directory\n",
      "2022-03-10 16:23:41.831976: I tensorflow/stream_executor/cuda/cudart_stub.cc:29] Ignore above cudart dlerror if you do not have a GPU set up on your machine.\n",
      "WARNING:tensorflow:From /home/jingheng/venv/lib/python3.9/site-packages/tensorflow/python/compat/v2_compat.py:107: disable_resource_variables (from tensorflow.python.ops.variable_scope) is deprecated and will be removed in a future version.\n",
      "Instructions for updating:\n",
      "non-resource variables are not supported in the long term\n",
      "WARNING:root:To get the best performance, it is recommended to adjust the number of threads by setting the environment variables OMP_NUM_THREADS, TF_INTRA_OP_PARALLELISM_THREADS, and TF_INTER_OP_PARALLELISM_THREADS.\n",
      "WARNING:deepmd.train.run_options:Switch to serial execution due to lack of horovod module.\n",
      "DEEPMD INFO    Calculate neighbor statistics... (add --skip-neighbor-stat to skip this step)\n",
      "DEEPMD CRITICAL dir ../test is not a valid data system dir\n",
      "Traceback (most recent call last):\n",
      "  File \"/home/jingheng/venv/bin/dp\", line 8, in <module>\n",
      "    sys.exit(main())\n",
      "  File \"/home/jingheng/venv/lib/python3.9/site-packages/deepmd/entrypoints/main.py\", line 473, in main\n",
      "    train_dp(**dict_args)\n",
      "  File \"/home/jingheng/venv/lib/python3.9/site-packages/deepmd/entrypoints/train.py\", line 94, in train\n",
      "    jdata = update_sel(jdata)\n",
      "  File \"/home/jingheng/venv/lib/python3.9/site-packages/deepmd/entrypoints/train.py\", line 346, in update_sel\n",
      "    descrpt_data = update_one_sel(jdata, descrpt_data)\n",
      "  File \"/home/jingheng/venv/lib/python3.9/site-packages/deepmd/entrypoints/train.py\", line 320, in update_one_sel\n",
      "    tmp_sel = get_sel(jdata, rcut)\n",
      "  File \"/home/jingheng/venv/lib/python3.9/site-packages/deepmd/entrypoints/train.py\", line 283, in get_sel\n",
      "    _, max_nbor_size = get_nbor_stat(jdata, rcut)\n",
      "  File \"/home/jingheng/venv/lib/python3.9/site-packages/deepmd/entrypoints/train.py\", line 258, in get_nbor_stat\n",
      "    train_data = get_data(jdata[\"training\"][\"training_data\"], max_rcut, type_map, None)\n",
      "  File \"/home/jingheng/venv/lib/python3.9/site-packages/deepmd/entrypoints/train.py\", line 196, in get_data\n",
      "    raise IOError(msg, help_msg)\n",
      "OSError: [Errno dir ../test is not a valid data system dir] Please check your setting for data systems\n"
     ]
    },
    {
     "ename": "AssertionError",
     "evalue": "An error occurred during training process.",
     "output_type": "error",
     "traceback": [
      "\u001b[0;31m---------------------------------------------------------------------------\u001b[0m",
      "\u001b[0;31mAssertionError\u001b[0m                            Traceback (most recent call last)",
      "\u001b[0;32m/tmp/ipykernel_16506/4153484212.py\u001b[0m in \u001b[0;36m<module>\u001b[0;34m\u001b[0m\n\u001b[1;32m      1\u001b[0m \u001b[0msetting\u001b[0m \u001b[0;34m=\u001b[0m \u001b[0;34m{\u001b[0m\u001b[0;34m'basis'\u001b[0m\u001b[0;34m:\u001b[0m\u001b[0;34m'6-31g'\u001b[0m\u001b[0;34m,\u001b[0m \u001b[0;34m'spin'\u001b[0m\u001b[0;34m:\u001b[0m\u001b[0;36m0\u001b[0m\u001b[0;34m,\u001b[0m \u001b[0;34m'xc'\u001b[0m\u001b[0;34m:\u001b[0m\u001b[0;32mFalse\u001b[0m\u001b[0;34m,\u001b[0m \u001b[0;34m'restricted'\u001b[0m\u001b[0;34m:\u001b[0m\u001b[0;32mTrue\u001b[0m\u001b[0;34m,\u001b[0m \u001b[0;34m'spin'\u001b[0m\u001b[0;34m:\u001b[0m\u001b[0;36m1\u001b[0m\u001b[0;34m}\u001b[0m\u001b[0;34m\u001b[0m\u001b[0;34m\u001b[0m\u001b[0m\n\u001b[1;32m      2\u001b[0m \u001b[0mgeo\u001b[0m \u001b[0;34m=\u001b[0m \u001b[0mmain\u001b[0m\u001b[0;34m.\u001b[0m\u001b[0mMLgeomopt\u001b[0m\u001b[0;34m(\u001b[0m\u001b[0mqc_engine\u001b[0m\u001b[0;34m=\u001b[0m\u001b[0;34m'pyscf'\u001b[0m\u001b[0;34m,\u001b[0m \u001b[0mml_engine\u001b[0m\u001b[0;34m=\u001b[0m\u001b[0;34m'deepmd'\u001b[0m\u001b[0;34m,\u001b[0m \u001b[0mwork_path\u001b[0m\u001b[0;34m=\u001b[0m\u001b[0;34m'./'\u001b[0m\u001b[0;34m,\u001b[0m \u001b[0mxyz_path\u001b[0m\u001b[0;34m=\u001b[0m\u001b[0;34m'./water.xyz'\u001b[0m\u001b[0;34m,\u001b[0m\u001b[0;34m**\u001b[0m\u001b[0msetting\u001b[0m\u001b[0;34m)\u001b[0m\u001b[0;34m\u001b[0m\u001b[0;34m\u001b[0m\u001b[0m\n\u001b[0;32m----> 3\u001b[0;31m \u001b[0mgeo\u001b[0m\u001b[0;34m.\u001b[0m\u001b[0mkernel\u001b[0m\u001b[0;34m(\u001b[0m\u001b[0;34m)\u001b[0m\u001b[0;34m\u001b[0m\u001b[0;34m\u001b[0m\u001b[0m\n\u001b[0m",
      "\u001b[0;32m~/ML_QC_GEOM_OPT/main.py\u001b[0m in \u001b[0;36mkernel\u001b[0;34m(self)\u001b[0m\n\u001b[1;32m     71\u001b[0m                 \u001b[0;32mwhile\u001b[0m \u001b[0mconsistensy\u001b[0m \u001b[0;32mis\u001b[0m \u001b[0;32mnot\u001b[0m \u001b[0;32mTrue\u001b[0m \u001b[0;32mand\u001b[0m \u001b[0miter\u001b[0m \u001b[0;34m<\u001b[0m \u001b[0mself\u001b[0m\u001b[0;34m.\u001b[0m\u001b[0mmax_opt_cycle\u001b[0m\u001b[0;34m:\u001b[0m\u001b[0;34m\u001b[0m\u001b[0;34m\u001b[0m\u001b[0m\n\u001b[1;32m     72\u001b[0m                         \u001b[0mML\u001b[0m \u001b[0;34m=\u001b[0m \u001b[0mML_engine\u001b[0m\u001b[0;34m.\u001b[0m\u001b[0mMLEngine\u001b[0m\u001b[0;34m(\u001b[0m\u001b[0mwork_path\u001b[0m\u001b[0;34m=\u001b[0m\u001b[0mself\u001b[0m\u001b[0;34m.\u001b[0m\u001b[0mwork_path\u001b[0m\u001b[0;34m,\u001b[0m \u001b[0mml_engine\u001b[0m\u001b[0;34m=\u001b[0m\u001b[0mself\u001b[0m\u001b[0;34m.\u001b[0m\u001b[0mml_engine\u001b[0m\u001b[0;34m,\u001b[0m \u001b[0mengine_path\u001b[0m\u001b[0;34m=\u001b[0m\u001b[0mself\u001b[0m\u001b[0;34m.\u001b[0m\u001b[0mengine_path\u001b[0m\u001b[0;34m)\u001b[0m\u001b[0;34m.\u001b[0m\u001b[0mbuild\u001b[0m\u001b[0;34m(\u001b[0m\u001b[0;34m)\u001b[0m\u001b[0;34m\u001b[0m\u001b[0;34m\u001b[0m\u001b[0m\n\u001b[0;32m---> 73\u001b[0;31m                         \u001b[0mML\u001b[0m\u001b[0;34m.\u001b[0m\u001b[0mrun\u001b[0m\u001b[0;34m(\u001b[0m\u001b[0mframe\u001b[0m\u001b[0;34m=\u001b[0m\u001b[0miter\u001b[0m\u001b[0;34m)\u001b[0m\u001b[0;34m\u001b[0m\u001b[0;34m\u001b[0m\u001b[0m\n\u001b[0m\u001b[1;32m     74\u001b[0m \u001b[0;34m\u001b[0m\u001b[0m\n\u001b[1;32m     75\u001b[0m \t\t\tOpt = optimizer.Optimizer(xyz_path=self.xyz_path,\n",
      "\u001b[0;32m~/ML_QC_GEOM_OPT/ML_engine.py\u001b[0m in \u001b[0;36mrun\u001b[0;34m(self, frame)\u001b[0m\n\u001b[1;32m     39\u001b[0m     \u001b[0;32mdef\u001b[0m \u001b[0mrun\u001b[0m\u001b[0;34m(\u001b[0m\u001b[0mself\u001b[0m\u001b[0;34m,\u001b[0m \u001b[0mframe\u001b[0m\u001b[0;34m=\u001b[0m\u001b[0;32mNone\u001b[0m\u001b[0;34m)\u001b[0m\u001b[0;34m:\u001b[0m\u001b[0;34m\u001b[0m\u001b[0;34m\u001b[0m\u001b[0m\n\u001b[1;32m     40\u001b[0m         \u001b[0mself\u001b[0m\u001b[0;34m.\u001b[0m\u001b[0mmake_npy\u001b[0m\u001b[0;34m(\u001b[0m\u001b[0mframe\u001b[0m\u001b[0;34m=\u001b[0m\u001b[0mframe\u001b[0m\u001b[0;34m)\u001b[0m\u001b[0;34m\u001b[0m\u001b[0;34m\u001b[0m\u001b[0m\n\u001b[0;32m---> 41\u001b[0;31m         \u001b[0mself\u001b[0m\u001b[0;34m.\u001b[0m\u001b[0mtraining\u001b[0m\u001b[0;34m(\u001b[0m\u001b[0;34m)\u001b[0m\u001b[0;34m\u001b[0m\u001b[0;34m\u001b[0m\u001b[0m\n\u001b[0m\u001b[1;32m     42\u001b[0m         \u001b[0mself\u001b[0m\u001b[0;34m.\u001b[0m\u001b[0mfreeze\u001b[0m\u001b[0;34m(\u001b[0m\u001b[0;34m)\u001b[0m\u001b[0;34m\u001b[0m\u001b[0;34m\u001b[0m\u001b[0m\n",
      "\u001b[0;32m~/ML_QC_GEOM_OPT/ML_engine.py\u001b[0m in \u001b[0;36mtraining\u001b[0;34m(self)\u001b[0m\n\u001b[1;32m     31\u001b[0m     \u001b[0;32mdef\u001b[0m \u001b[0mtraining\u001b[0m\u001b[0;34m(\u001b[0m\u001b[0mself\u001b[0m\u001b[0;34m)\u001b[0m\u001b[0;34m:\u001b[0m\u001b[0;34m\u001b[0m\u001b[0;34m\u001b[0m\u001b[0m\n\u001b[1;32m     32\u001b[0m         \u001b[0mtrain\u001b[0m \u001b[0;34m=\u001b[0m \u001b[0msubprocess\u001b[0m\u001b[0;34m.\u001b[0m\u001b[0mrun\u001b[0m\u001b[0;34m(\u001b[0m\u001b[0;34m'dp train input.json'\u001b[0m\u001b[0;34m,\u001b[0m \u001b[0mshell\u001b[0m\u001b[0;34m=\u001b[0m\u001b[0;32mTrue\u001b[0m\u001b[0;34m)\u001b[0m\u001b[0;34m\u001b[0m\u001b[0;34m\u001b[0m\u001b[0m\n\u001b[0;32m---> 33\u001b[0;31m         \u001b[0;32massert\u001b[0m \u001b[0mtrain\u001b[0m\u001b[0;34m.\u001b[0m\u001b[0mreturncode\u001b[0m \u001b[0;34m==\u001b[0m \u001b[0;36m0\u001b[0m\u001b[0;34m,\u001b[0m \u001b[0;34m'An error occurred during training process.'\u001b[0m\u001b[0;34m\u001b[0m\u001b[0;34m\u001b[0m\u001b[0m\n\u001b[0m\u001b[1;32m     34\u001b[0m \u001b[0;34m\u001b[0m\u001b[0m\n\u001b[1;32m     35\u001b[0m     \u001b[0;32mdef\u001b[0m \u001b[0mfreeze\u001b[0m\u001b[0;34m(\u001b[0m\u001b[0mself\u001b[0m\u001b[0;34m)\u001b[0m\u001b[0;34m:\u001b[0m\u001b[0;34m\u001b[0m\u001b[0;34m\u001b[0m\u001b[0m\n",
      "\u001b[0;31mAssertionError\u001b[0m: An error occurred during training process."
     ]
    }
   ],
   "source": [
    "setting = {'basis':'6-31g', 'spin':0, 'xc':False, 'restricted':True, 'spin':1}\n",
    "geo = main.MLgeomopt(qc_engine='pyscf', ml_engine='deepmd', work_path='./', xyz_path='./water.xyz',**setting)\n",
    "geo.kernel()"
   ]
  },
  {
   "cell_type": "code",
   "execution_count": null,
   "id": "6b1bacd4-ccb4-4503-bf49-a0921701c094",
   "metadata": {},
   "outputs": [],
   "source": []
  }
 ],
 "metadata": {
  "kernelspec": {
   "display_name": "venv",
   "language": "python",
   "name": "venv"
  },
  "language_info": {
   "codemirror_mode": {
    "name": "ipython",
    "version": 3
   },
   "file_extension": ".py",
   "mimetype": "text/x-python",
   "name": "python",
   "nbconvert_exporter": "python",
   "pygments_lexer": "ipython3",
   "version": "3.9.7"
  }
 },
 "nbformat": 4,
 "nbformat_minor": 5
}
