{
 "cells": [
  {
   "cell_type": "code",
   "execution_count": 1,
   "id": "f1b3edf2-6ad1-454f-bdc7-5c5d7f3e5a36",
   "metadata": {},
   "outputs": [],
   "source": [
    "import data, main, ML_engine, optimizer, QC_engine "
   ]
  },
  {
   "cell_type": "code",
   "execution_count": 2,
   "id": "81f05e5a-1db9-4db9-b3d2-148b653f35ed",
   "metadata": {},
   "outputs": [
    {
     "name": "stdout",
     "output_type": "stream",
     "text": [
      "WARNING:tensorflow:From /home/dgg95223/venv/lib/python3.7/site-packages/tensorflow/python/compat/v2_compat.py:111: disable_resource_variables (from tensorflow.python.ops.variable_scope) is deprecated and will be removed in a future version.\n",
      "Instructions for updating:\n",
      "non-resource variables are not supported in the long term\n"
     ]
    },
    {
     "name": "stderr",
     "output_type": "stream",
     "text": [
      "WARNING:root:To get the best performance, it is recommended to adjust the number of threads by setting the environment variables OMP_NUM_THREADS, TF_INTRA_OP_PARALLELISM_THREADS, and TF_INTER_OP_PARALLELISM_THREADS.\n",
      "WARNING:root:Environment variable KMP_BLOCKTIME is empty. Use the default value 0\n",
      "WARNING:root:Environment variable KMP_AFFINITY is empty. Use the default value granularity=fine,verbose,compact,1,0\n"
     ]
    }
   ],
   "source": [
    "from deepmd.calculator import DP"
   ]
  },
  {
   "cell_type": "code",
   "execution_count": 3,
   "id": "81320257-f55e-4f38-90ac-77e3bea94e2a",
   "metadata": {
    "scrolled": true,
    "tags": []
   },
   "outputs": [
    {
     "name": "stderr",
     "output_type": "stream",
     "text": [
      "WARNING:main:No convergence tolarence is specified, default tolarence 0.02313993017 will be used\n",
      "OMP: Info #155: KMP_AFFINITY: Initial OS proc set respected: 0-11\n",
      "OMP: Info #216: KMP_AFFINITY: decoding x2APIC ids.\n",
      "OMP: Info #157: KMP_AFFINITY: 12 available OS procs\n",
      "OMP: Info #158: KMP_AFFINITY: Uniform topology\n",
      "OMP: Info #287: KMP_AFFINITY: topology layer \"LL cache\" is equivalent to \"socket\".\n",
      "OMP: Info #287: KMP_AFFINITY: topology layer \"L3 cache\" is equivalent to \"socket\".\n",
      "OMP: Info #287: KMP_AFFINITY: topology layer \"L2 cache\" is equivalent to \"core\".\n",
      "OMP: Info #287: KMP_AFFINITY: topology layer \"L1 cache\" is equivalent to \"core\".\n",
      "OMP: Info #192: KMP_AFFINITY: 1 socket x 6 cores/socket x 2 threads/core (6 total cores)\n",
      "OMP: Info #218: KMP_AFFINITY: OS proc to physical thread map:\n",
      "OMP: Info #172: KMP_AFFINITY: OS proc 0 maps to socket 0 core 0 thread 0 \n",
      "OMP: Info #172: KMP_AFFINITY: OS proc 1 maps to socket 0 core 0 thread 1 \n",
      "OMP: Info #172: KMP_AFFINITY: OS proc 2 maps to socket 0 core 1 thread 0 \n",
      "OMP: Info #172: KMP_AFFINITY: OS proc 3 maps to socket 0 core 1 thread 1 \n",
      "OMP: Info #172: KMP_AFFINITY: OS proc 4 maps to socket 0 core 2 thread 0 \n",
      "OMP: Info #172: KMP_AFFINITY: OS proc 5 maps to socket 0 core 2 thread 1 \n",
      "OMP: Info #172: KMP_AFFINITY: OS proc 6 maps to socket 0 core 3 thread 0 \n",
      "OMP: Info #172: KMP_AFFINITY: OS proc 7 maps to socket 0 core 3 thread 1 \n",
      "OMP: Info #172: KMP_AFFINITY: OS proc 8 maps to socket 0 core 4 thread 0 \n",
      "OMP: Info #172: KMP_AFFINITY: OS proc 9 maps to socket 0 core 4 thread 1 \n",
      "OMP: Info #172: KMP_AFFINITY: OS proc 10 maps to socket 0 core 5 thread 0 \n",
      "OMP: Info #172: KMP_AFFINITY: OS proc 11 maps to socket 0 core 5 thread 1 \n",
      "OMP: Info #254: KMP_AFFINITY: pid 15403 tid 15403 thread 0 bound to OS proc set 0\n",
      "OMP: Info #254: KMP_AFFINITY: pid 15403 tid 15428 thread 1 bound to OS proc set 2\n",
      "OMP: Info #254: KMP_AFFINITY: pid 15403 tid 15429 thread 2 bound to OS proc set 4\n",
      "OMP: Info #254: KMP_AFFINITY: pid 15403 tid 15430 thread 3 bound to OS proc set 6\n",
      "OMP: Info #254: KMP_AFFINITY: pid 15403 tid 15431 thread 4 bound to OS proc set 8\n",
      "OMP: Info #254: KMP_AFFINITY: pid 15403 tid 15432 thread 5 bound to OS proc set 10\n",
      "OMP: Info #254: KMP_AFFINITY: pid 15403 tid 15433 thread 6 bound to OS proc set 1\n",
      "OMP: Info #254: KMP_AFFINITY: pid 15403 tid 15434 thread 7 bound to OS proc set 3\n",
      "OMP: Info #254: KMP_AFFINITY: pid 15403 tid 15435 thread 8 bound to OS proc set 5\n",
      "OMP: Info #254: KMP_AFFINITY: pid 15403 tid 15436 thread 9 bound to OS proc set 7\n",
      "OMP: Info #254: KMP_AFFINITY: pid 15403 tid 15437 thread 10 bound to OS proc set 9\n",
      "OMP: Info #254: KMP_AFFINITY: pid 15403 tid 15438 thread 11 bound to OS proc set 11\n"
     ]
    },
    {
     "name": "stdout",
     "output_type": "stream",
     "text": [
      "\n",
      "\t\t\t###########################################\n",
      "\t\t\t###      Optimization cycle:     1      ###\n",
      "\t\t\t###########################################\n",
      "\t\t\t\n"
     ]
    },
    {
     "name": "stderr",
     "output_type": "stream",
     "text": [
      "WARNING:tensorflow:From /home/dgg95223/venv/lib/python3.7/site-packages/tensorflow/python/compat/v2_compat.py:111: disable_resource_variables (from tensorflow.python.ops.variable_scope) is deprecated and will be removed in a future version.\n",
      "Instructions for updating:\n",
      "non-resource variables are not supported in the long term\n",
      "WARNING:root:To get the best performance, it is recommended to adjust the number of threads by setting the environment variables OMP_NUM_THREADS, TF_INTRA_OP_PARALLELISM_THREADS, and TF_INTER_OP_PARALLELISM_THREADS.\n",
      "WARNING:deepmd.train.run_options:Switch to serial execution due to lack of horovod module.\n",
      "DEEPMD INFO    Calculate neighbor statistics... (add --skip-neighbor-stat to skip this step)\n",
      "OMP: Info #155: KMP_AFFINITY: Initial OS proc set respected: 0-11\n",
      "OMP: Info #216: KMP_AFFINITY: decoding x2APIC ids.\n",
      "OMP: Info #157: KMP_AFFINITY: 12 available OS procs\n",
      "OMP: Info #158: KMP_AFFINITY: Uniform topology\n",
      "OMP: Info #287: KMP_AFFINITY: topology layer \"LL cache\" is equivalent to \"socket\".\n",
      "OMP: Info #287: KMP_AFFINITY: topology layer \"L3 cache\" is equivalent to \"socket\".\n",
      "OMP: Info #287: KMP_AFFINITY: topology layer \"L2 cache\" is equivalent to \"core\".\n",
      "OMP: Info #287: KMP_AFFINITY: topology layer \"L1 cache\" is equivalent to \"core\".\n",
      "OMP: Info #192: KMP_AFFINITY: 1 socket x 6 cores/socket x 2 threads/core (6 total cores)\n",
      "OMP: Info #218: KMP_AFFINITY: OS proc to physical thread map:\n",
      "OMP: Info #172: KMP_AFFINITY: OS proc 0 maps to socket 0 core 0 thread 0 \n",
      "OMP: Info #172: KMP_AFFINITY: OS proc 1 maps to socket 0 core 0 thread 1 \n",
      "OMP: Info #172: KMP_AFFINITY: OS proc 2 maps to socket 0 core 1 thread 0 \n",
      "OMP: Info #172: KMP_AFFINITY: OS proc 3 maps to socket 0 core 1 thread 1 \n",
      "OMP: Info #172: KMP_AFFINITY: OS proc 4 maps to socket 0 core 2 thread 0 \n",
      "OMP: Info #172: KMP_AFFINITY: OS proc 5 maps to socket 0 core 2 thread 1 \n",
      "OMP: Info #172: KMP_AFFINITY: OS proc 6 maps to socket 0 core 3 thread 0 \n",
      "OMP: Info #172: KMP_AFFINITY: OS proc 7 maps to socket 0 core 3 thread 1 \n",
      "OMP: Info #172: KMP_AFFINITY: OS proc 8 maps to socket 0 core 4 thread 0 \n",
      "OMP: Info #172: KMP_AFFINITY: OS proc 9 maps to socket 0 core 4 thread 1 \n",
      "OMP: Info #172: KMP_AFFINITY: OS proc 10 maps to socket 0 core 5 thread 0 \n",
      "OMP: Info #172: KMP_AFFINITY: OS proc 11 maps to socket 0 core 5 thread 1 \n",
      "OMP: Info #254: KMP_AFFINITY: pid 15440 tid 15510 thread 0 bound to OS proc set 0\n",
      "OMP: Info #254: KMP_AFFINITY: pid 15440 tid 15512 thread 1 bound to OS proc set 2\n",
      "OMP: Info #254: KMP_AFFINITY: pid 15440 tid 15513 thread 2 bound to OS proc set 4\n",
      "OMP: Info #254: KMP_AFFINITY: pid 15440 tid 15514 thread 3 bound to OS proc set 6\n",
      "OMP: Info #254: KMP_AFFINITY: pid 15440 tid 15515 thread 4 bound to OS proc set 8\n",
      "OMP: Info #254: KMP_AFFINITY: pid 15440 tid 15516 thread 5 bound to OS proc set 10\n",
      "OMP: Info #254: KMP_AFFINITY: pid 15440 tid 15517 thread 6 bound to OS proc set 1\n",
      "OMP: Info #254: KMP_AFFINITY: pid 15440 tid 15518 thread 7 bound to OS proc set 3\n",
      "OMP: Info #254: KMP_AFFINITY: pid 15440 tid 15519 thread 8 bound to OS proc set 5\n",
      "OMP: Info #254: KMP_AFFINITY: pid 15440 tid 15520 thread 9 bound to OS proc set 7\n",
      "OMP: Info #254: KMP_AFFINITY: pid 15440 tid 15521 thread 10 bound to OS proc set 9\n",
      "OMP: Info #254: KMP_AFFINITY: pid 15440 tid 15522 thread 11 bound to OS proc set 11\n",
      "/home/dgg95223/venv/lib/python3.7/site-packages/deepmd/utils/data_system.py:159: UserWarning: system ./raw/ required batch size is larger than the size of the dataset raw/set.000 (6 > 1)\n",
      "  (self.system_dirs[ii], chk_ret[0], self.batch_size[ii], chk_ret[1]))\n",
      "DEEPMD INFO    training data with min nbor dist: 1.0065080572951215\n",
      "DEEPMD INFO    training data with max nbor size: [2, 1]\n",
      "DEEPMD INFO     _____               _____   __  __  _____           _     _  _   \n",
      "DEEPMD INFO    |  __ \\             |  __ \\ |  \\/  ||  __ \\         | |   (_)| |  \n",
      "DEEPMD INFO    | |  | |  ___   ___ | |__) || \\  / || |  | | ______ | | __ _ | |_ \n",
      "DEEPMD INFO    | |  | | / _ \\ / _ \\|  ___/ | |\\/| || |  | ||______|| |/ /| || __|\n",
      "DEEPMD INFO    | |__| ||  __/|  __/| |     | |  | || |__| |        |   < | || |_ \n",
      "DEEPMD INFO    |_____/  \\___| \\___||_|     |_|  |_||_____/         |_|\\_\\|_| \\__|\n",
      "DEEPMD INFO    Please read and cite:\n",
      "DEEPMD INFO    Wang, Zhang, Han and E, Comput.Phys.Comm. 228, 178-184 (2018)\n",
      "DEEPMD INFO    installed to:         /home/dgg95223/deepmd/deepmd-kit/_skbuild/linux-x86_64-3.7/cmake-install\n",
      "DEEPMD INFO    source :              v2.0.2-77-gbcfb127\n",
      "DEEPMD INFO    source brach:         devel\n",
      "DEEPMD INFO    source commit:        bcfb127\n",
      "DEEPMD INFO    source commit at:     2022-01-24 14:31:39 +0800\n",
      "DEEPMD INFO    build float prec:     double\n",
      "DEEPMD INFO    build with tf inc:    /home/dgg95223/venv/lib/python3.7/site-packages/tensorflow/include\n",
      "DEEPMD INFO    build with tf lib:    \n",
      "DEEPMD INFO    ---Summary of the training---------------------------------------\n",
      "DEEPMD INFO    running on:           Deng-PC\n",
      "DEEPMD INFO    computing device:     gpu:0\n",
      "DEEPMD INFO    CUDA_VISIBLE_DEVICES: unset\n",
      "DEEPMD INFO    Count of visible GPU: 1\n",
      "DEEPMD INFO    num_intra_threads:    0\n",
      "DEEPMD INFO    num_inter_threads:    0\n",
      "DEEPMD INFO    -----------------------------------------------------------------\n",
      "DEEPMD INFO    ---Summary of DataSystem: training     -----------------------------------------------\n",
      "DEEPMD INFO    found 1 system(s):\n",
      "DEEPMD INFO                                        system  natoms  bch_sz   n_bch   prob  pbc\n",
      "DEEPMD INFO                                        ./raw/       6       6       1  1.000    F\n",
      "DEEPMD INFO    --------------------------------------------------------------------------------------\n",
      "DEEPMD INFO    training without frame parameter\n",
      "OMP: Info #254: KMP_AFFINITY: pid 15440 tid 15509 thread 12 bound to OS proc set 0\n",
      "OMP: Info #254: KMP_AFFINITY: pid 15440 tid 15523 thread 13 bound to OS proc set 2\n",
      "OMP: Info #254: KMP_AFFINITY: pid 15440 tid 15524 thread 14 bound to OS proc set 4\n",
      "OMP: Info #254: KMP_AFFINITY: pid 15440 tid 15525 thread 15 bound to OS proc set 6\n",
      "OMP: Info #254: KMP_AFFINITY: pid 15440 tid 15526 thread 16 bound to OS proc set 8\n",
      "OMP: Info #254: KMP_AFFINITY: pid 15440 tid 15527 thread 17 bound to OS proc set 10\n",
      "OMP: Info #254: KMP_AFFINITY: pid 15440 tid 15528 thread 18 bound to OS proc set 1\n",
      "OMP: Info #254: KMP_AFFINITY: pid 15440 tid 15529 thread 19 bound to OS proc set 3\n",
      "OMP: Info #254: KMP_AFFINITY: pid 15440 tid 15530 thread 20 bound to OS proc set 5\n",
      "OMP: Info #254: KMP_AFFINITY: pid 15440 tid 15531 thread 21 bound to OS proc set 7\n",
      "OMP: Info #254: KMP_AFFINITY: pid 15440 tid 15532 thread 22 bound to OS proc set 9\n",
      "OMP: Info #254: KMP_AFFINITY: pid 15440 tid 15533 thread 23 bound to OS proc set 11\n",
      "OMP: Info #254: KMP_AFFINITY: pid 15440 tid 15440 thread 24 bound to OS proc set 0\n",
      "DEEPMD INFO    built lr\n",
      "DEEPMD INFO    built network\n",
      "DEEPMD INFO    built training\n",
      "DEEPMD WARNING To get the best performance, it is recommended to adjust the number of threads by setting the environment variables OMP_NUM_THREADS, TF_INTRA_OP_PARALLELISM_THREADS, and TF_INTER_OP_PARALLELISM_THREADS.\n",
      "DEEPMD INFO    initialize model from scratch\n",
      "DEEPMD INFO    start training at lr 1.00e-03 (== 1.00e-03), decay_step 5000, decay_rate 0.598777, final lr will be 3.51e-08\n",
      "OMP: Info #254: KMP_AFFINITY: pid 15440 tid 15502 thread 25 bound to OS proc set 2\n",
      "OMP: Info #254: KMP_AFFINITY: pid 15440 tid 15534 thread 26 bound to OS proc set 4\n",
      "OMP: Info #254: KMP_AFFINITY: pid 15440 tid 15535 thread 27 bound to OS proc set 6\n",
      "OMP: Info #254: KMP_AFFINITY: pid 15440 tid 15536 thread 28 bound to OS proc set 8\n",
      "OMP: Info #254: KMP_AFFINITY: pid 15440 tid 15537 thread 29 bound to OS proc set 10\n",
      "OMP: Info #254: KMP_AFFINITY: pid 15440 tid 15538 thread 30 bound to OS proc set 1\n",
      "OMP: Info #254: KMP_AFFINITY: pid 15440 tid 15539 thread 31 bound to OS proc set 3\n",
      "OMP: Info #254: KMP_AFFINITY: pid 15440 tid 15540 thread 32 bound to OS proc set 5\n",
      "OMP: Info #254: KMP_AFFINITY: pid 15440 tid 15541 thread 33 bound to OS proc set 7\n",
      "OMP: Info #254: KMP_AFFINITY: pid 15440 tid 15542 thread 34 bound to OS proc set 9\n",
      "OMP: Info #254: KMP_AFFINITY: pid 15440 tid 15543 thread 35 bound to OS proc set 11\n",
      "OMP: Info #254: KMP_AFFINITY: pid 15440 tid 15544 thread 36 bound to OS proc set 0\n",
      "OMP: Info #254: KMP_AFFINITY: pid 15440 tid 15501 thread 37 bound to OS proc set 2\n",
      "OMP: Info #254: KMP_AFFINITY: pid 15440 tid 15546 thread 39 bound to OS proc set 6\n",
      "OMP: Info #254: KMP_AFFINITY: pid 15440 tid 15545 thread 38 bound to OS proc set 4\n",
      "OMP: Info #254: KMP_AFFINITY: pid 15440 tid 15547 thread 40 bound to OS proc set 8\n",
      "OMP: Info #254: KMP_AFFINITY: pid 15440 tid 15548 thread 41 bound to OS proc set 10\n",
      "OMP: Info #254: KMP_AFFINITY: pid 15440 tid 15549 thread 42 bound to OS proc set 1\n",
      "OMP: Info #254: KMP_AFFINITY: pid 15440 tid 15550 thread 43 bound to OS proc set 3\n",
      "OMP: Info #254: KMP_AFFINITY: pid 15440 tid 15552 thread 45 bound to OS proc set 7\n",
      "OMP: Info #254: KMP_AFFINITY: pid 15440 tid 15551 thread 44 bound to OS proc set 5\n",
      "OMP: Info #254: KMP_AFFINITY: pid 15440 tid 15553 thread 46 bound to OS proc set 9\n",
      "OMP: Info #254: KMP_AFFINITY: pid 15440 tid 15554 thread 47 bound to OS proc set 11\n",
      "OMP: Info #254: KMP_AFFINITY: pid 15440 tid 15555 thread 48 bound to OS proc set 0\n",
      "OMP: Info #254: KMP_AFFINITY: pid 15440 tid 15500 thread 49 bound to OS proc set 2\n",
      "OMP: Info #254: KMP_AFFINITY: pid 15440 tid 15556 thread 50 bound to OS proc set 4\n",
      "OMP: Info #254: KMP_AFFINITY: pid 15440 tid 15558 thread 52 bound to OS proc set 8\n",
      "OMP: Info #254: KMP_AFFINITY: pid 15440 tid 15557 thread 51 bound to OS proc set 6\n",
      "OMP: Info #254: KMP_AFFINITY: pid 15440 tid 15559 thread 53 bound to OS proc set 10\n",
      "OMP: Info #254: KMP_AFFINITY: pid 15440 tid 15560 thread 54 bound to OS proc set 1\n",
      "OMP: Info #254: KMP_AFFINITY: pid 15440 tid 15561 thread 55 bound to OS proc set 3\n",
      "OMP: Info #254: KMP_AFFINITY: pid 15440 tid 15562 thread 56 bound to OS proc set 5\n",
      "OMP: Info #254: KMP_AFFINITY: pid 15440 tid 15563 thread 57 bound to OS proc set 7\n",
      "OMP: Info #254: KMP_AFFINITY: pid 15440 tid 15564 thread 58 bound to OS proc set 9\n",
      "OMP: Info #254: KMP_AFFINITY: pid 15440 tid 15565 thread 59 bound to OS proc set 11\n",
      "OMP: Info #254: KMP_AFFINITY: pid 15440 tid 15566 thread 60 bound to OS proc set 0\n",
      "OMP: Info #254: KMP_AFFINITY: pid 15440 tid 15508 thread 61 bound to OS proc set 2\n",
      "OMP: Info #254: KMP_AFFINITY: pid 15440 tid 15567 thread 62 bound to OS proc set 4\n",
      "OMP: Info #254: KMP_AFFINITY: pid 15440 tid 15568 thread 63 bound to OS proc set 6\n",
      "OMP: Info #254: KMP_AFFINITY: pid 15440 tid 15569 thread 64 bound to OS proc set 8\n",
      "OMP: Info #254: KMP_AFFINITY: pid 15440 tid 15570 thread 65 bound to OS proc set 10\n",
      "OMP: Info #254: KMP_AFFINITY: pid 15440 tid 15571 thread 66 bound to OS proc set 1\n",
      "OMP: Info #254: KMP_AFFINITY: pid 15440 tid 15572 thread 67 bound to OS proc set 3\n",
      "OMP: Info #254: KMP_AFFINITY: pid 15440 tid 15573 thread 68 bound to OS proc set 5\n",
      "OMP: Info #254: KMP_AFFINITY: pid 15440 tid 15574 thread 69 bound to OS proc set 7\n",
      "OMP: Info #254: KMP_AFFINITY: pid 15440 tid 15575 thread 70 bound to OS proc set 9\n",
      "OMP: Info #254: KMP_AFFINITY: pid 15440 tid 15576 thread 71 bound to OS proc set 11\n",
      "OMP: Info #254: KMP_AFFINITY: pid 15440 tid 15577 thread 72 bound to OS proc set 0\n",
      "OMP: Info #254: KMP_AFFINITY: pid 15440 tid 15503 thread 73 bound to OS proc set 2\n",
      "OMP: Info #254: KMP_AFFINITY: pid 15440 tid 15578 thread 74 bound to OS proc set 4\n",
      "OMP: Info #254: KMP_AFFINITY: pid 15440 tid 15579 thread 75 bound to OS proc set 6\n",
      "OMP: Info #254: KMP_AFFINITY: pid 15440 tid 15580 thread 76 bound to OS proc set 8\n",
      "OMP: Info #254: KMP_AFFINITY: pid 15440 tid 15581 thread 77 bound to OS proc set 10\n",
      "OMP: Info #254: KMP_AFFINITY: pid 15440 tid 15582 thread 78 bound to OS proc set 1\n",
      "OMP: Info #254: KMP_AFFINITY: pid 15440 tid 15583 thread 79 bound to OS proc set 3\n",
      "OMP: Info #254: KMP_AFFINITY: pid 15440 tid 15584 thread 80 bound to OS proc set 5\n",
      "OMP: Info #254: KMP_AFFINITY: pid 15440 tid 15585 thread 81 bound to OS proc set 7\n",
      "OMP: Info #254: KMP_AFFINITY: pid 15440 tid 15586 thread 82 bound to OS proc set 9\n",
      "OMP: Info #254: KMP_AFFINITY: pid 15440 tid 15587 thread 83 bound to OS proc set 11\n",
      "OMP: Info #254: KMP_AFFINITY: pid 15440 tid 15588 thread 84 bound to OS proc set 0\n",
      "OMP: Info #254: KMP_AFFINITY: pid 15440 tid 15505 thread 85 bound to OS proc set 2\n",
      "OMP: Info #254: KMP_AFFINITY: pid 15440 tid 15590 thread 87 bound to OS proc set 6\n",
      "OMP: Info #254: KMP_AFFINITY: pid 15440 tid 15589 thread 86 bound to OS proc set 4\n",
      "OMP: Info #254: KMP_AFFINITY: pid 15440 tid 15591 thread 88 bound to OS proc set 8\n",
      "OMP: Info #254: KMP_AFFINITY: pid 15440 tid 15592 thread 89 bound to OS proc set 10\n",
      "OMP: Info #254: KMP_AFFINITY: pid 15440 tid 15593 thread 90 bound to OS proc set 1\n",
      "OMP: Info #254: KMP_AFFINITY: pid 15440 tid 15594 thread 91 bound to OS proc set 3\n",
      "OMP: Info #254: KMP_AFFINITY: pid 15440 tid 15595 thread 92 bound to OS proc set 5\n",
      "OMP: Info #254: KMP_AFFINITY: pid 15440 tid 15596 thread 93 bound to OS proc set 7\n",
      "OMP: Info #254: KMP_AFFINITY: pid 15440 tid 15597 thread 94 bound to OS proc set 9\n",
      "OMP: Info #254: KMP_AFFINITY: pid 15440 tid 15598 thread 95 bound to OS proc set 11\n",
      "OMP: Info #254: KMP_AFFINITY: pid 15440 tid 15599 thread 96 bound to OS proc set 0\n",
      "OMP: Info #254: KMP_AFFINITY: pid 15440 tid 15507 thread 97 bound to OS proc set 2\n",
      "OMP: Info #254: KMP_AFFINITY: pid 15440 tid 15600 thread 98 bound to OS proc set 4\n",
      "OMP: Info #254: KMP_AFFINITY: pid 15440 tid 15601 thread 99 bound to OS proc set 6\n",
      "OMP: Info #254: KMP_AFFINITY: pid 15440 tid 15602 thread 100 bound to OS proc set 8\n",
      "OMP: Info #254: KMP_AFFINITY: pid 15440 tid 15603 thread 101 bound to OS proc set 10\n",
      "OMP: Info #254: KMP_AFFINITY: pid 15440 tid 15604 thread 102 bound to OS proc set 1\n",
      "OMP: Info #254: KMP_AFFINITY: pid 15440 tid 15605 thread 103 bound to OS proc set 3\n",
      "OMP: Info #254: KMP_AFFINITY: pid 15440 tid 15606 thread 104 bound to OS proc set 5\n",
      "OMP: Info #254: KMP_AFFINITY: pid 15440 tid 15607 thread 105 bound to OS proc set 7\n",
      "OMP: Info #254: KMP_AFFINITY: pid 15440 tid 15608 thread 106 bound to OS proc set 9\n",
      "OMP: Info #254: KMP_AFFINITY: pid 15440 tid 15609 thread 107 bound to OS proc set 11\n",
      "OMP: Info #254: KMP_AFFINITY: pid 15440 tid 15610 thread 108 bound to OS proc set 0\n",
      "OMP: Info #254: KMP_AFFINITY: pid 15440 tid 15506 thread 109 bound to OS proc set 2\n",
      "OMP: Info #254: KMP_AFFINITY: pid 15440 tid 15611 thread 110 bound to OS proc set 4\n",
      "OMP: Info #254: KMP_AFFINITY: pid 15440 tid 15612 thread 111 bound to OS proc set 6\n",
      "OMP: Info #254: KMP_AFFINITY: pid 15440 tid 15613 thread 112 bound to OS proc set 8\n",
      "OMP: Info #254: KMP_AFFINITY: pid 15440 tid 15614 thread 113 bound to OS proc set 10\n",
      "OMP: Info #254: KMP_AFFINITY: pid 15440 tid 15616 thread 115 bound to OS proc set 3\n",
      "OMP: Info #254: KMP_AFFINITY: pid 15440 tid 15615 thread 114 bound to OS proc set 1\n",
      "OMP: Info #254: KMP_AFFINITY: pid 15440 tid 15617 thread 116 bound to OS proc set 5\n",
      "OMP: Info #254: KMP_AFFINITY: pid 15440 tid 15618 thread 117 bound to OS proc set 7\n",
      "OMP: Info #254: KMP_AFFINITY: pid 15440 tid 15619 thread 118 bound to OS proc set 9\n",
      "OMP: Info #254: KMP_AFFINITY: pid 15440 tid 15620 thread 119 bound to OS proc set 11\n",
      "OMP: Info #254: KMP_AFFINITY: pid 15440 tid 15621 thread 120 bound to OS proc set 0\n",
      "OMP: Info #254: KMP_AFFINITY: pid 15440 tid 15504 thread 121 bound to OS proc set 2\n",
      "OMP: Info #254: KMP_AFFINITY: pid 15440 tid 15622 thread 122 bound to OS proc set 4\n",
      "OMP: Info #254: KMP_AFFINITY: pid 15440 tid 15623 thread 123 bound to OS proc set 6\n",
      "OMP: Info #254: KMP_AFFINITY: pid 15440 tid 15624 thread 124 bound to OS proc set 8\n",
      "OMP: Info #254: KMP_AFFINITY: pid 15440 tid 15625 thread 125 bound to OS proc set 10\n",
      "OMP: Info #254: KMP_AFFINITY: pid 15440 tid 15626 thread 126 bound to OS proc set 1\n",
      "OMP: Info #254: KMP_AFFINITY: pid 15440 tid 15627 thread 127 bound to OS proc set 3\n",
      "OMP: Info #254: KMP_AFFINITY: pid 15440 tid 15628 thread 128 bound to OS proc set 5\n",
      "OMP: Info #254: KMP_AFFINITY: pid 15440 tid 15629 thread 129 bound to OS proc set 7\n",
      "OMP: Info #254: KMP_AFFINITY: pid 15440 tid 15630 thread 130 bound to OS proc set 9\n",
      "OMP: Info #254: KMP_AFFINITY: pid 15440 tid 15631 thread 131 bound to OS proc set 11\n",
      "OMP: Info #254: KMP_AFFINITY: pid 15440 tid 15632 thread 132 bound to OS proc set 0\n",
      "OMP: Info #254: KMP_AFFINITY: pid 15440 tid 15499 thread 133 bound to OS proc set 2\n",
      "OMP: Info #254: KMP_AFFINITY: pid 15440 tid 15633 thread 134 bound to OS proc set 4\n",
      "OMP: Info #254: KMP_AFFINITY: pid 15440 tid 15634 thread 135 bound to OS proc set 6\n",
      "OMP: Info #254: KMP_AFFINITY: pid 15440 tid 15635 thread 136 bound to OS proc set 8\n",
      "OMP: Info #254: KMP_AFFINITY: pid 15440 tid 15636 thread 137 bound to OS proc set 10\n",
      "OMP: Info #254: KMP_AFFINITY: pid 15440 tid 15637 thread 138 bound to OS proc set 1\n",
      "OMP: Info #254: KMP_AFFINITY: pid 15440 tid 15638 thread 139 bound to OS proc set 3\n",
      "OMP: Info #254: KMP_AFFINITY: pid 15440 tid 15639 thread 140 bound to OS proc set 5\n",
      "OMP: Info #254: KMP_AFFINITY: pid 15440 tid 15640 thread 141 bound to OS proc set 7\n",
      "OMP: Info #254: KMP_AFFINITY: pid 15440 tid 15641 thread 142 bound to OS proc set 9\n",
      "OMP: Info #254: KMP_AFFINITY: pid 15440 tid 15642 thread 143 bound to OS proc set 11\n",
      "OMP: Info #254: KMP_AFFINITY: pid 15440 tid 15643 thread 144 bound to OS proc set 0\n",
      "DEEPMD INFO    batch     100 training time 3.93 s, testing time 0.01 s\n",
      "DEEPMD INFO    batch     200 training time 3.12 s, testing time 0.01 s\n",
      "Traceback (most recent call last):\n",
      "  File \"/home/dgg95223/venv/bin/dp\", line 8, in <module>\n",
      "    sys.exit(main())\n",
      "  File \"/home/dgg95223/venv/lib/python3.7/site-packages/deepmd/entrypoints/main.py\", line 442, in main\n",
      "    train_dp(**dict_args)\n",
      "  File \"/home/dgg95223/venv/lib/python3.7/site-packages/deepmd/entrypoints/train.py\", line 106, in train\n",
      "    _do_work(jdata, run_opt, is_compress)\n",
      "  File \"/home/dgg95223/venv/lib/python3.7/site-packages/deepmd/entrypoints/train.py\", line 167, in _do_work\n",
      "    model.train(train_data, valid_data)\n",
      "  File \"/home/dgg95223/venv/lib/python3.7/site-packages/deepmd/train/trainer.py\", line 510, in train\n",
      "    options=prf_options, run_metadata=prf_run_metadata)\n",
      "  File \"/home/dgg95223/venv/lib/python3.7/site-packages/deepmd/utils/sess.py\", line 21, in run_sess\n",
      "    return sess.run(*args, **kwargs)\n",
      "  File \"/home/dgg95223/venv/lib/python3.7/site-packages/tensorflow/python/client/session.py\", line 971, in run\n",
      "    run_metadata_ptr)\n",
      "  File \"/home/dgg95223/venv/lib/python3.7/site-packages/tensorflow/python/client/session.py\", line 1194, in _run\n",
      "    feed_dict_tensor, options, run_metadata)\n",
      "  File \"/home/dgg95223/venv/lib/python3.7/site-packages/tensorflow/python/client/session.py\", line 1374, in _do_run\n",
      "    run_metadata)\n",
      "  File \"/home/dgg95223/venv/lib/python3.7/site-packages/tensorflow/python/client/session.py\", line 1380, in _do_call\n",
      "    return fn(*args)\n",
      "  File \"/home/dgg95223/venv/lib/python3.7/site-packages/tensorflow/python/client/session.py\", line 1364, in _run_fn\n",
      "    target_list, run_metadata)\n",
      "  File \"/home/dgg95223/venv/lib/python3.7/site-packages/tensorflow/python/client/session.py\", line 1458, in _call_tf_sessionrun\n",
      "    run_metadata)\n",
      "KeyboardInterrupt\n"
     ]
    },
    {
     "ename": "KeyboardInterrupt",
     "evalue": "",
     "output_type": "error",
     "traceback": [
      "\u001b[0;31m---------------------------------------------------------------------------\u001b[0m",
      "\u001b[0;31mKeyboardInterrupt\u001b[0m                         Traceback (most recent call last)",
      "\u001b[0;32m/tmp/ipykernel_15403/3028586355.py\u001b[0m in \u001b[0;36m<module>\u001b[0;34m\u001b[0m\n\u001b[1;32m      2\u001b[0m \u001b[0mgeo\u001b[0m \u001b[0;34m=\u001b[0m \u001b[0mmain\u001b[0m\u001b[0;34m.\u001b[0m\u001b[0mMLgeomopt\u001b[0m\u001b[0;34m(\u001b[0m\u001b[0mqc_engine\u001b[0m\u001b[0;34m=\u001b[0m\u001b[0;34m'pyscf'\u001b[0m\u001b[0;34m,\u001b[0m \u001b[0mml_engine\u001b[0m\u001b[0;34m=\u001b[0m\u001b[0;34m'deepmd'\u001b[0m\u001b[0;34m,\u001b[0m \u001b[0mwork_path\u001b[0m\u001b[0;34m=\u001b[0m\u001b[0;34m'./'\u001b[0m\u001b[0;34m,\u001b[0m \u001b[0mxyz_path\u001b[0m\u001b[0;34m=\u001b[0m\u001b[0;34m'./water.xyz'\u001b[0m\u001b[0;34m,\u001b[0m\u001b[0;34m**\u001b[0m\u001b[0msetting\u001b[0m\u001b[0;34m)\u001b[0m\u001b[0;34m\u001b[0m\u001b[0;34m\u001b[0m\u001b[0m\n\u001b[1;32m      3\u001b[0m \u001b[0mgeo\u001b[0m\u001b[0;34m.\u001b[0m\u001b[0mopt_algorithm\u001b[0m \u001b[0;34m=\u001b[0m \u001b[0;34m'lbfgs'\u001b[0m\u001b[0;34m\u001b[0m\u001b[0;34m\u001b[0m\u001b[0m\n\u001b[0;32m----> 4\u001b[0;31m \u001b[0mgeo\u001b[0m\u001b[0;34m.\u001b[0m\u001b[0mkernel\u001b[0m\u001b[0;34m(\u001b[0m\u001b[0;34m)\u001b[0m\u001b[0;34m\u001b[0m\u001b[0;34m\u001b[0m\u001b[0m\n\u001b[0m",
      "\u001b[0;32m~/ML_QC_geo_opt/main.py\u001b[0m in \u001b[0;36mkernel\u001b[0;34m(self)\u001b[0m\n\u001b[1;32m     83\u001b[0m \t\t\t'''%iter)\n\u001b[1;32m     84\u001b[0m                         \u001b[0mML\u001b[0m \u001b[0;34m=\u001b[0m \u001b[0mML_engine\u001b[0m\u001b[0;34m.\u001b[0m\u001b[0mMLEngine\u001b[0m\u001b[0;34m(\u001b[0m\u001b[0mwork_path\u001b[0m\u001b[0;34m=\u001b[0m\u001b[0mself\u001b[0m\u001b[0;34m.\u001b[0m\u001b[0mwork_path\u001b[0m\u001b[0;34m,\u001b[0m \u001b[0mml_engine\u001b[0m\u001b[0;34m=\u001b[0m\u001b[0mself\u001b[0m\u001b[0;34m.\u001b[0m\u001b[0mml_engine\u001b[0m\u001b[0;34m)\u001b[0m\u001b[0;34m.\u001b[0m\u001b[0mbuild\u001b[0m\u001b[0;34m(\u001b[0m\u001b[0;34m)\u001b[0m\u001b[0;34m\u001b[0m\u001b[0;34m\u001b[0m\u001b[0m\n\u001b[0;32m---> 85\u001b[0;31m                         \u001b[0mML\u001b[0m\u001b[0;34m.\u001b[0m\u001b[0mrun\u001b[0m\u001b[0;34m(\u001b[0m\u001b[0;34m)\u001b[0m\u001b[0;34m\u001b[0m\u001b[0;34m\u001b[0m\u001b[0m\n\u001b[0m\u001b[1;32m     86\u001b[0m \u001b[0;34m\u001b[0m\u001b[0m\n\u001b[1;32m     87\u001b[0m \t\t\tOpt = optimizer.Optimizer(xyz_path=self.xyz_path,\n",
      "\u001b[0;32m~/ML_QC_geo_opt/ML_engine.py\u001b[0m in \u001b[0;36mrun\u001b[0;34m(self)\u001b[0m\n\u001b[1;32m     37\u001b[0m         \u001b[0;31m# subprocess.run('cd '+self.raw_path, shell=True)\u001b[0m\u001b[0;34m\u001b[0m\u001b[0;34m\u001b[0m\u001b[0;34m\u001b[0m\u001b[0m\n\u001b[1;32m     38\u001b[0m         \u001b[0;31m# subprocess.run('pwd', shell=True)\u001b[0m\u001b[0;34m\u001b[0m\u001b[0;34m\u001b[0m\u001b[0;34m\u001b[0m\u001b[0m\n\u001b[0;32m---> 39\u001b[0;31m         \u001b[0mself\u001b[0m\u001b[0;34m.\u001b[0m\u001b[0mtraining\u001b[0m\u001b[0;34m(\u001b[0m\u001b[0;34m)\u001b[0m\u001b[0;34m\u001b[0m\u001b[0;34m\u001b[0m\u001b[0m\n\u001b[0m\u001b[1;32m     40\u001b[0m         \u001b[0mself\u001b[0m\u001b[0;34m.\u001b[0m\u001b[0mfreeze\u001b[0m\u001b[0;34m(\u001b[0m\u001b[0;34m)\u001b[0m\u001b[0;34m\u001b[0m\u001b[0;34m\u001b[0m\u001b[0m\n\u001b[1;32m     41\u001b[0m         \u001b[0mself\u001b[0m\u001b[0;34m.\u001b[0m\u001b[0mcompress\u001b[0m\u001b[0;34m(\u001b[0m\u001b[0;34m)\u001b[0m\u001b[0;34m\u001b[0m\u001b[0;34m\u001b[0m\u001b[0m\n",
      "\u001b[0;32m~/ML_QC_geo_opt/ML_engine.py\u001b[0m in \u001b[0;36mtraining\u001b[0;34m(self)\u001b[0m\n\u001b[1;32m     23\u001b[0m \u001b[0;34m\u001b[0m\u001b[0m\n\u001b[1;32m     24\u001b[0m     \u001b[0;32mdef\u001b[0m \u001b[0mtraining\u001b[0m\u001b[0;34m(\u001b[0m\u001b[0mself\u001b[0m\u001b[0;34m)\u001b[0m\u001b[0;34m:\u001b[0m\u001b[0;34m\u001b[0m\u001b[0;34m\u001b[0m\u001b[0m\n\u001b[0;32m---> 25\u001b[0;31m         \u001b[0mtrain\u001b[0m \u001b[0;34m=\u001b[0m \u001b[0msubprocess\u001b[0m\u001b[0;34m.\u001b[0m\u001b[0mrun\u001b[0m\u001b[0;34m(\u001b[0m\u001b[0;34m'dp train %s'\u001b[0m\u001b[0;34m%\u001b[0m\u001b[0mself\u001b[0m\u001b[0;34m.\u001b[0m\u001b[0minput_path\u001b[0m\u001b[0;34m,\u001b[0m \u001b[0mshell\u001b[0m\u001b[0;34m=\u001b[0m\u001b[0;32mTrue\u001b[0m\u001b[0;34m)\u001b[0m\u001b[0;34m\u001b[0m\u001b[0;34m\u001b[0m\u001b[0m\n\u001b[0m\u001b[1;32m     26\u001b[0m         \u001b[0;32massert\u001b[0m \u001b[0mtrain\u001b[0m\u001b[0;34m.\u001b[0m\u001b[0mreturncode\u001b[0m \u001b[0;34m==\u001b[0m \u001b[0;36m0\u001b[0m\u001b[0;34m,\u001b[0m \u001b[0;34m'An error occurred during training process.'\u001b[0m\u001b[0;34m\u001b[0m\u001b[0;34m\u001b[0m\u001b[0m\n\u001b[1;32m     27\u001b[0m \u001b[0;34m\u001b[0m\u001b[0m\n",
      "\u001b[0;32m~/anaconda3/lib/python3.7/subprocess.py\u001b[0m in \u001b[0;36mrun\u001b[0;34m(input, capture_output, timeout, check, *popenargs, **kwargs)\u001b[0m\n\u001b[1;32m    488\u001b[0m     \u001b[0;32mwith\u001b[0m \u001b[0mPopen\u001b[0m\u001b[0;34m(\u001b[0m\u001b[0;34m*\u001b[0m\u001b[0mpopenargs\u001b[0m\u001b[0;34m,\u001b[0m \u001b[0;34m**\u001b[0m\u001b[0mkwargs\u001b[0m\u001b[0;34m)\u001b[0m \u001b[0;32mas\u001b[0m \u001b[0mprocess\u001b[0m\u001b[0;34m:\u001b[0m\u001b[0;34m\u001b[0m\u001b[0;34m\u001b[0m\u001b[0m\n\u001b[1;32m    489\u001b[0m         \u001b[0;32mtry\u001b[0m\u001b[0;34m:\u001b[0m\u001b[0;34m\u001b[0m\u001b[0;34m\u001b[0m\u001b[0m\n\u001b[0;32m--> 490\u001b[0;31m             \u001b[0mstdout\u001b[0m\u001b[0;34m,\u001b[0m \u001b[0mstderr\u001b[0m \u001b[0;34m=\u001b[0m \u001b[0mprocess\u001b[0m\u001b[0;34m.\u001b[0m\u001b[0mcommunicate\u001b[0m\u001b[0;34m(\u001b[0m\u001b[0minput\u001b[0m\u001b[0;34m,\u001b[0m \u001b[0mtimeout\u001b[0m\u001b[0;34m=\u001b[0m\u001b[0mtimeout\u001b[0m\u001b[0;34m)\u001b[0m\u001b[0;34m\u001b[0m\u001b[0;34m\u001b[0m\u001b[0m\n\u001b[0m\u001b[1;32m    491\u001b[0m         \u001b[0;32mexcept\u001b[0m \u001b[0mTimeoutExpired\u001b[0m \u001b[0;32mas\u001b[0m \u001b[0mexc\u001b[0m\u001b[0;34m:\u001b[0m\u001b[0;34m\u001b[0m\u001b[0;34m\u001b[0m\u001b[0m\n\u001b[1;32m    492\u001b[0m             \u001b[0mprocess\u001b[0m\u001b[0;34m.\u001b[0m\u001b[0mkill\u001b[0m\u001b[0;34m(\u001b[0m\u001b[0;34m)\u001b[0m\u001b[0;34m\u001b[0m\u001b[0;34m\u001b[0m\u001b[0m\n",
      "\u001b[0;32m~/anaconda3/lib/python3.7/subprocess.py\u001b[0m in \u001b[0;36mcommunicate\u001b[0;34m(self, input, timeout)\u001b[0m\n\u001b[1;32m    954\u001b[0m                 \u001b[0mstderr\u001b[0m \u001b[0;34m=\u001b[0m \u001b[0mself\u001b[0m\u001b[0;34m.\u001b[0m\u001b[0mstderr\u001b[0m\u001b[0;34m.\u001b[0m\u001b[0mread\u001b[0m\u001b[0;34m(\u001b[0m\u001b[0;34m)\u001b[0m\u001b[0;34m\u001b[0m\u001b[0;34m\u001b[0m\u001b[0m\n\u001b[1;32m    955\u001b[0m                 \u001b[0mself\u001b[0m\u001b[0;34m.\u001b[0m\u001b[0mstderr\u001b[0m\u001b[0;34m.\u001b[0m\u001b[0mclose\u001b[0m\u001b[0;34m(\u001b[0m\u001b[0;34m)\u001b[0m\u001b[0;34m\u001b[0m\u001b[0;34m\u001b[0m\u001b[0m\n\u001b[0;32m--> 956\u001b[0;31m             \u001b[0mself\u001b[0m\u001b[0;34m.\u001b[0m\u001b[0mwait\u001b[0m\u001b[0;34m(\u001b[0m\u001b[0;34m)\u001b[0m\u001b[0;34m\u001b[0m\u001b[0;34m\u001b[0m\u001b[0m\n\u001b[0m\u001b[1;32m    957\u001b[0m         \u001b[0;32melse\u001b[0m\u001b[0;34m:\u001b[0m\u001b[0;34m\u001b[0m\u001b[0;34m\u001b[0m\u001b[0m\n\u001b[1;32m    958\u001b[0m             \u001b[0;32mif\u001b[0m \u001b[0mtimeout\u001b[0m \u001b[0;32mis\u001b[0m \u001b[0;32mnot\u001b[0m \u001b[0;32mNone\u001b[0m\u001b[0;34m:\u001b[0m\u001b[0;34m\u001b[0m\u001b[0;34m\u001b[0m\u001b[0m\n",
      "\u001b[0;32m~/anaconda3/lib/python3.7/subprocess.py\u001b[0m in \u001b[0;36mwait\u001b[0;34m(self, timeout)\u001b[0m\n\u001b[1;32m   1017\u001b[0m             \u001b[0mendtime\u001b[0m \u001b[0;34m=\u001b[0m \u001b[0m_time\u001b[0m\u001b[0;34m(\u001b[0m\u001b[0;34m)\u001b[0m \u001b[0;34m+\u001b[0m \u001b[0mtimeout\u001b[0m\u001b[0;34m\u001b[0m\u001b[0;34m\u001b[0m\u001b[0m\n\u001b[1;32m   1018\u001b[0m         \u001b[0;32mtry\u001b[0m\u001b[0;34m:\u001b[0m\u001b[0;34m\u001b[0m\u001b[0;34m\u001b[0m\u001b[0m\n\u001b[0;32m-> 1019\u001b[0;31m             \u001b[0;32mreturn\u001b[0m \u001b[0mself\u001b[0m\u001b[0;34m.\u001b[0m\u001b[0m_wait\u001b[0m\u001b[0;34m(\u001b[0m\u001b[0mtimeout\u001b[0m\u001b[0;34m=\u001b[0m\u001b[0mtimeout\u001b[0m\u001b[0;34m)\u001b[0m\u001b[0;34m\u001b[0m\u001b[0;34m\u001b[0m\u001b[0m\n\u001b[0m\u001b[1;32m   1020\u001b[0m         \u001b[0;32mexcept\u001b[0m \u001b[0mKeyboardInterrupt\u001b[0m\u001b[0;34m:\u001b[0m\u001b[0;34m\u001b[0m\u001b[0;34m\u001b[0m\u001b[0m\n\u001b[1;32m   1021\u001b[0m             \u001b[0;31m# https://bugs.python.org/issue25942\u001b[0m\u001b[0;34m\u001b[0m\u001b[0;34m\u001b[0m\u001b[0;34m\u001b[0m\u001b[0m\n",
      "\u001b[0;32m~/anaconda3/lib/python3.7/subprocess.py\u001b[0m in \u001b[0;36m_wait\u001b[0;34m(self, timeout)\u001b[0m\n\u001b[1;32m   1651\u001b[0m                         \u001b[0;32mif\u001b[0m \u001b[0mself\u001b[0m\u001b[0;34m.\u001b[0m\u001b[0mreturncode\u001b[0m \u001b[0;32mis\u001b[0m \u001b[0;32mnot\u001b[0m \u001b[0;32mNone\u001b[0m\u001b[0;34m:\u001b[0m\u001b[0;34m\u001b[0m\u001b[0;34m\u001b[0m\u001b[0m\n\u001b[1;32m   1652\u001b[0m                             \u001b[0;32mbreak\u001b[0m  \u001b[0;31m# Another thread waited.\u001b[0m\u001b[0;34m\u001b[0m\u001b[0;34m\u001b[0m\u001b[0m\n\u001b[0;32m-> 1653\u001b[0;31m                         \u001b[0;34m(\u001b[0m\u001b[0mpid\u001b[0m\u001b[0;34m,\u001b[0m \u001b[0msts\u001b[0m\u001b[0;34m)\u001b[0m \u001b[0;34m=\u001b[0m \u001b[0mself\u001b[0m\u001b[0;34m.\u001b[0m\u001b[0m_try_wait\u001b[0m\u001b[0;34m(\u001b[0m\u001b[0;36m0\u001b[0m\u001b[0;34m)\u001b[0m\u001b[0;34m\u001b[0m\u001b[0;34m\u001b[0m\u001b[0m\n\u001b[0m\u001b[1;32m   1654\u001b[0m                         \u001b[0;31m# Check the pid and loop as waitpid has been known to\u001b[0m\u001b[0;34m\u001b[0m\u001b[0;34m\u001b[0m\u001b[0;34m\u001b[0m\u001b[0m\n\u001b[1;32m   1655\u001b[0m                         \u001b[0;31m# return 0 even without WNOHANG in odd situations.\u001b[0m\u001b[0;34m\u001b[0m\u001b[0;34m\u001b[0m\u001b[0;34m\u001b[0m\u001b[0m\n",
      "\u001b[0;32m~/anaconda3/lib/python3.7/subprocess.py\u001b[0m in \u001b[0;36m_try_wait\u001b[0;34m(self, wait_flags)\u001b[0m\n\u001b[1;32m   1609\u001b[0m             \u001b[0;34m\"\"\"All callers to this function MUST hold self._waitpid_lock.\"\"\"\u001b[0m\u001b[0;34m\u001b[0m\u001b[0;34m\u001b[0m\u001b[0m\n\u001b[1;32m   1610\u001b[0m             \u001b[0;32mtry\u001b[0m\u001b[0;34m:\u001b[0m\u001b[0;34m\u001b[0m\u001b[0;34m\u001b[0m\u001b[0m\n\u001b[0;32m-> 1611\u001b[0;31m                 \u001b[0;34m(\u001b[0m\u001b[0mpid\u001b[0m\u001b[0;34m,\u001b[0m \u001b[0msts\u001b[0m\u001b[0;34m)\u001b[0m \u001b[0;34m=\u001b[0m \u001b[0mos\u001b[0m\u001b[0;34m.\u001b[0m\u001b[0mwaitpid\u001b[0m\u001b[0;34m(\u001b[0m\u001b[0mself\u001b[0m\u001b[0;34m.\u001b[0m\u001b[0mpid\u001b[0m\u001b[0;34m,\u001b[0m \u001b[0mwait_flags\u001b[0m\u001b[0;34m)\u001b[0m\u001b[0;34m\u001b[0m\u001b[0;34m\u001b[0m\u001b[0m\n\u001b[0m\u001b[1;32m   1612\u001b[0m             \u001b[0;32mexcept\u001b[0m \u001b[0mChildProcessError\u001b[0m\u001b[0;34m:\u001b[0m\u001b[0;34m\u001b[0m\u001b[0;34m\u001b[0m\u001b[0m\n\u001b[1;32m   1613\u001b[0m                 \u001b[0;31m# This happens if SIGCLD is set to be ignored or waiting\u001b[0m\u001b[0;34m\u001b[0m\u001b[0;34m\u001b[0m\u001b[0;34m\u001b[0m\u001b[0m\n",
      "\u001b[0;31mKeyboardInterrupt\u001b[0m: "
     ]
    }
   ],
   "source": [
    "setting = {'basis':'6-31g', 'spin':0, 'xc':False, 'restricted':True, 'verbose':0}\n",
    "geo = main.MLgeomopt(qc_engine='pyscf', ml_engine='deepmd', work_path='./', xyz_path='./water.xyz',**setting)\n",
    "geo.opt_algorithm = 'lbfgs'\n",
    "geo.kernel()"
   ]
  },
  {
   "cell_type": "code",
   "execution_count": 4,
   "id": "87f73dd0-4f1d-41bc-8b7d-35516c215d67",
   "metadata": {},
   "outputs": [
    {
     "name": "stdout",
     "output_type": "stream",
     "text": [
      "converged SCF energy = 610.156839488383\n"
     ]
    },
    {
     "data": {
      "text/plain": [
       "610.1568394883828"
      ]
     },
     "execution_count": 4,
     "metadata": {},
     "output_type": "execute_result"
    }
   ],
   "source": [
    "from pyscf import gto, scf\n",
    "\n",
    "mol = gto.Mole(atom='''\n",
    "O        3.37554198       1.98306445       1.77042260\n",
    "O       26.17128840       1.15953296       1.70257011\n",
    "H        3.48718928       1.81771738       1.72566221\n",
    "H        3.36969874       1.99171817       1.77276519\n",
    "H       26.20859573       1.24129313       1.88623203\n",
    "H       26.16933587       1.15525391       1.69295785''',basis='6-31g').build()\n",
    "mf = scf.RHF(mol)\n",
    "mf.kernel()"
   ]
  },
  {
   "cell_type": "code",
   "execution_count": 5,
   "id": "9f268a96-55f5-4f5d-8943-d41c4a6331de",
   "metadata": {},
   "outputs": [
    {
     "name": "stdout",
     "output_type": "stream",
     "text": [
      "SCF not converged.\n",
      "SCF energy = -144.603063781376\n"
     ]
    },
    {
     "data": {
      "text/plain": [
       "-144.603063781376"
      ]
     },
     "execution_count": 5,
     "metadata": {},
     "output_type": "execute_result"
    }
   ],
   "source": [
    "mol = gto.Mole(atom='''\n",
    "O        3.85028343       4.33435074      -1.46283114\n",
    "O       32.83434364       4.59371931      -0.64864949\n",
    "H        3.22764867       0.72764750       3.29111982\n",
    "H        3.15449789       0.73050176       3.44056131\n",
    "H       22.91529053      -0.47107633       3.00121399\n",
    "H       22.79958584      -0.56656299       2.92919549\n",
    "''',basis='6-31g').build()\n",
    "mf = scf.RHF(mol)\n",
    "mf.kernel()"
   ]
  },
  {
   "cell_type": "code",
   "execution_count": 6,
   "id": "e95ff9ee-f8ec-4c20-a6be-bb4e086c9926",
   "metadata": {},
   "outputs": [
    {
     "name": "stdout",
     "output_type": "stream",
     "text": [
      "converged SCF energy = -151.950875830031\n",
      "111 -151.9508758300306\n"
     ]
    }
   ],
   "source": [
    "from pyscf import gto, scf\n",
    "\n",
    "mol = gto.Mole(atom='''\n",
    "O   3.63802      1.57110      1.76000\n",
    "O  26.36198      1.57110      1.76000\n",
    "H   3.95828      2.55412      1.74392\n",
    "H   2.63613      1.66728      1.76493\n",
    "H  26.09174      0.99418      2.56104\n",
    "H  26.09550      0.99080      0.96072''',basis='6-31g').build()\n",
    "mf = scf.RHF(mol)\n",
    "mf.kernel()\n",
    "print('111',mf.e_tot)"
   ]
  },
  {
   "cell_type": "code",
   "execution_count": 4,
   "id": "05a4b608-bf14-454f-942a-af8c46571bca",
   "metadata": {},
   "outputs": [
    {
     "name": "stdout",
     "output_type": "stream",
     "text": [
      "0.023139930171428326\n"
     ]
    }
   ],
   "source": [
    "from pyscf.data.nist import BOHR ,HARTREE2EV\n",
    "print(0.00045 * HARTREE2EV/BOHR)"
   ]
  },
  {
   "cell_type": "code",
   "execution_count": null,
   "id": "41544973-19a2-486a-b281-00913cf032f2",
   "metadata": {},
   "outputs": [],
   "source": []
  }
 ],
 "metadata": {
  "kernelspec": {
   "display_name": "venv",
   "language": "python",
   "name": "venv"
  },
  "language_info": {
   "codemirror_mode": {
    "name": "ipython",
    "version": 3
   },
   "file_extension": ".py",
   "mimetype": "text/x-python",
   "name": "python",
   "nbconvert_exporter": "python",
   "pygments_lexer": "ipython3",
   "version": "3.7.11"
  }
 },
 "nbformat": 4,
 "nbformat_minor": 5
}
